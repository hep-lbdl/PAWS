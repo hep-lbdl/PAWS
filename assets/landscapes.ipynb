{
 "cells": [
  {
   "cell_type": "code",
   "execution_count": 5,
   "id": "84b6b372-c1fc-4bfc-bd57-cb869b56af0f",
   "metadata": {
    "tags": []
   },
   "outputs": [],
   "source": [
    "import numpy as np\n",
    "import tensorflow as tf\n",
    "import matplotlib.pyplot as plt\n",
    "from scipy.interpolate import RectBivariateSpline\n",
    "import random\n",
    "import os\n",
    "\n",
    "from keras.layers import Input, Dense\n",
    "from keras.models import Model, Sequential\n",
    "\n",
    "from sklearn.model_selection import train_test_split\n",
    "from sklearn import metrics\n",
    "\n",
    "from IPython.display import display, clear_output\n",
    "from PIL import Image, ImageSequence"
   ]
  },
  {
   "cell_type": "code",
   "execution_count": 2,
   "id": "c47cd4e5-b185-49a8-b57e-734c7e0bfa47",
   "metadata": {
    "tags": []
   },
   "outputs": [
    {
     "name": "stdout",
     "output_type": "stream",
     "text": [
      "GPU 0: NVIDIA A100-PCIE-40GB (UUID: GPU-a8053574-4128-877c-acfd-80334fa7cd5d)\n"
     ]
    }
   ],
   "source": [
    "!nvidia-smi -L # list GPUs available"
   ]
  },
  {
   "cell_type": "code",
   "execution_count": 3,
   "id": "e230c08e-42ca-4086-ba2c-e2cab70248f9",
   "metadata": {
    "tags": []
   },
   "outputs": [],
   "source": [
    "!export CUDA_VISIBLE_DEVICES=0"
   ]
  },
  {
   "cell_type": "code",
   "execution_count": 2,
   "id": "649e940b-e9ff-4522-ae65-3b44946b38f2",
   "metadata": {
    "tags": []
   },
   "outputs": [],
   "source": [
    "mass_range = [0,0.5,1,1.5,2,2.5,3,3.5,4,4.5,5,5.5,6]\n",
    "\n",
    "x = {}\n",
    "x_array_read = np.load(\"x_array_order.npy\",allow_pickle=True)\n",
    "mycounter = -1\n",
    "for m1 in mass_range:\n",
    "    for m2 in mass_range:\n",
    "        if (m1==0 and m2>0 or m2==0 and m1>0):\n",
    "            continue\n",
    "        mycounter+=1\n",
    "        x[m1,m2] = x_array_read[mycounter]"
   ]
  },
  {
   "cell_type": "code",
   "execution_count": null,
   "id": "6a2df76f-d755-4ce1-973a-b47406bec937",
   "metadata": {},
   "outputs": [],
   "source": [
    "np.shape(x[0,0,qq, noise])"
   ]
  },
  {
   "cell_type": "markdown",
   "id": "a3d38a8d-7974-422a-85af-eb3d19a1b32d",
   "metadata": {},
   "source": [
    "Below we evaluate every point in our discritized space of weights and store to a dictionary, evaluation can be stopped at any point, saving after every signal fraction"
   ]
  },
  {
   "cell_type": "code",
   "execution_count": 13,
   "id": "9c5f3cde-4b4f-43ae-af8b-6086e0bc76ce",
   "metadata": {
    "tags": []
   },
   "outputs": [
    {
     "name": "stdout",
     "output_type": "stream",
     "text": [
      "Signal Fraction:  0.001\n",
      "Signal Fraction:  0.0012742749857031334\n",
      "Signal Fraction:  0.001623776739188721\n",
      "Signal Fraction:  0.00206913808111479\n",
      "Signal Fraction:  0.0026366508987303583\n",
      "Signal Fraction:  0.003359818286283781\n",
      "Signal Fraction:  0.004281332398719396\n",
      "Signal Fraction:  0.00545559478116852\n",
      "Signal Fraction:  0.0069519279617756054\n",
      "Signal Fraction:  0.008858667904100823\n",
      "Signal Fraction:  0.011288378916846888\n",
      "Signal Fraction:  0.01438449888287663\n",
      "Signal Fraction:  0.018329807108324356\n",
      "Signal Fraction:  0.023357214690901212\n",
      "Signal Fraction:  0.029763514416313176\n",
      "Signal Fraction:  0.0379269019073225\n",
      "Signal Fraction:  0.04832930238571752\n",
      "Signal Fraction:  0.06158482110660261\n",
      "Signal Fraction:  0.07847599703514611\n",
      "Signal Fraction:  0.1\n"
     ]
    }
   ],
   "source": [
    "import time\n",
    "start_time = time.time()\n",
    "\n",
    "def evaluate_loss_landscape(model, m1, m2):\n",
    "    \n",
    "    Nfeatures = 6\n",
    "    #check if loss dictionary exists, if it does load it, if not create empty one\n",
    "    dir_path = os.getcwd()\n",
    "    file_name = f\"z_allm1m2_{Nfeatures}FeaturesHD.npy\"\n",
    "    file_path = os.path.join(dir_path, file_name)\n",
    "    \n",
    "    if os.path.exists(file_path):\n",
    "        z = np.load(file_name, allow_pickle = True).item()\n",
    "    else:\n",
    "        print(\"Dictionary doesn't exist, creating one...\")\n",
    "        z = {}\n",
    "    #varying sigfrac, fixed mass pair\n",
    "    \n",
    "    losses_list = []\n",
    "\n",
    "    epsilon = 1e-6\n",
    "    sig_space = np.logspace(-3, -1, 10)\n",
    "    \n",
    "    #if we want a specific sigfrac\n",
    "    #sig_space = [sig_space[15]]\n",
    "    \n",
    "    start = 0.5\n",
    "    end = 6\n",
    "    step = 0.25\n",
    "\n",
    "    weight_list = np.arange(start, end + step, step)\n",
    "    \n",
    "    for sig in sig_space:\n",
    "        print(\"Signal Fraction: \", sig)\n",
    "        for w1 in weight_list:\n",
    "            for w2 in weight_list:\n",
    "                #print(w1, w2)\n",
    "                sigfrac = sig\n",
    "\n",
    "                for l in model.layers:\n",
    "                    l.trainable=False\n",
    "\n",
    "                inputs_hold = tf.keras.Input(shape=(1,))\n",
    "                simple_model = Dense(1,use_bias = False,activation='relu',kernel_initializer=tf.keras.initializers.Constant(w1))(inputs_hold)\n",
    "                model3 = Model(inputs = inputs_hold, outputs = simple_model)\n",
    "\n",
    "                inputs_hold2 = tf.keras.Input(shape=(1,))\n",
    "                simple_model2 = Dense(1,use_bias = False,activation='relu',kernel_initializer=tf.keras.initializers.Constant(w2))(inputs_hold2)\n",
    "                model32 = Model(inputs = inputs_hold2, outputs = simple_model2)\n",
    "\n",
    "                inputs_hold3 = tf.keras.Input(shape=(1,))\n",
    "                simple_model3 = tf.exp(Dense(1,use_bias = False,activation='linear',kernel_initializer=tf.keras.initializers.Constant(-1))(inputs_hold3))\n",
    "                model33 = Model(inputs = inputs_hold3, outputs = simple_model3)\n",
    "\n",
    "                inputs = tf.keras.Input(shape=(Nfeatures,))\n",
    "                inputs2 = tf.keras.layers.concatenate([inputs,model3(tf.ones_like(inputs)[:,0]),model32(tf.ones_like(inputs)[:,0])])\n",
    "                hidden_layer_1 = model(inputs2)\n",
    "                LLR = hidden_layer_1 / (1.-hidden_layer_1 + epsilon)\n",
    "                LLR_xs = 1.+sigfrac*LLR - sigfrac\n",
    "                #LLR_xs = 1.+model33(tf.ones_like(inputs)[:,0])*LLR\n",
    "                ws = LLR_xs / (1.+LLR_xs+0.0001)\n",
    "                model_all2 = Model(inputs = inputs, outputs = ws)\n",
    "                model_all2.compile(loss='binary_crossentropy', optimizer=tf.keras.optimizers.Adam(learning_rate = 0.01))\n",
    "\n",
    "                m1 = m1\n",
    "                m2 = m2\n",
    "                \n",
    "                #if computed this mass pair, break\n",
    "                \n",
    "                key = (sigfrac,m1,m2)\n",
    "                if key in z:\n",
    "                    break\n",
    "\n",
    "                test_background = int(1/2 *len(x[0,0, qq]))\n",
    "                train_background = int(1/4 * len(x[0,0,qq]))\n",
    "                train_data = int(1/4 * len(x[0,0,qq]))\n",
    "                train_reference = int(1/4 * len(x[0,0,qq]))\n",
    "                #signal\n",
    "                test_signal_length = int(1/2*len(x[m1,m2,qq]))\n",
    "                sig_frac = sigfrac\n",
    "\n",
    "                #randomize signal events\n",
    "                #random_test_signal_length = random.randint(0, test_signal_length - 1)\n",
    "                N = int(1/4 * (len(x[0,0,qq])))\n",
    "                signal = x[m1, m2,qq][test_signal_length:test_signal_length + int(sigfrac*N)]\n",
    "\n",
    "                x_vals_ = np.concatenate([x[0,0,qq][test_background:],signal])\n",
    "                y_vals_ = np.concatenate([np.zeros(train_reference),np.ones(train_data),np.ones(len(signal))])\n",
    "\n",
    "                X_train_, X_val_, Y_train_, Y_val_ = train_test_split(x_vals_, y_vals_, test_size=0.5, random_state = 42)\n",
    "                \n",
    "                with tf.device('/GPU:0'):\n",
    "                    loss = model_all2.evaluate(X_val_, Y_val_, verbose = 0)\n",
    "                losses_list.append(loss)\n",
    "                \n",
    "        end_time = time.time()\n",
    "        elapsed_time = round(end_time - start_time, 3)\n",
    "        print(f\"Time taken: {elapsed_time} seconds\")\n",
    "        if key in z:\n",
    "            print(\"Landscape for m1 = {} \".format(m1) + \"and \" + \"m2 = {} \".format(m2) +\" already exists for \" + \"{}\".format(sigfrac) + \" signal fraction\")\n",
    "        else:\n",
    "            z[sigfrac, m1, m2] = losses_list\n",
    "            losses_list = []\n",
    "            np.save(file_name, z)\n",
    "end_time_total = time.time()\n",
    "\n",
    "elapsed_time_total = round(end_time_total - start_time, 3)\n",
    "print(f\"Total elapsed time: {elapsed_time_total} seconds\")"
   ]
  },
  {
   "cell_type": "code",
   "execution_count": 3,
   "id": "58706d19-144e-4503-a46a-79e106e2b1bd",
   "metadata": {
    "tags": []
   },
   "outputs": [],
   "source": [
    "loss_values = list(z[sig_space[0], 1, 5.5])\n",
    "\n",
    "plt.hist2d(m1_values, m2_values, bins=(12, 12), cmap='viridis', weights=loss_values);"
   ]
  },
  {
   "cell_type": "code",
   "execution_count": null,
   "id": "cf2dd2dd-5d9f-4ca8-8a76-a41a5b80c9dc",
   "metadata": {},
   "outputs": [],
   "source": [
    "def loss_landscape_nofit(sigfrac, m1, m2, z, step=0.25):\n",
    "    start = 0.5\n",
    "    end = 6\n",
    "    step = step\n",
    "    \n",
    "    weight_list = np.arange(start, end + step, step)\n",
    "    grid_axes = [(w1, w2) for w1 in weight_list for w2 in weight_list]\n",
    "    w1_values, w2_values = zip(*grid_axes)\n",
    "\n",
    "    loss_values = list(z[sigfrac, m1, m2])\n",
    "    min_loss = min(loss_values)\n",
    "    max_loss = max(loss_values)\n",
    "    normalized_loss = [(x - min_loss) / (max_loss - min_loss) for x in loss_values]\n",
    "    bins = int(np.sqrt(len(z[sigfrac, m1, m2])))\n",
    "\n",
    "    star1_coords = (m1, m2)\n",
    "    star2_coords = (m2, m1)\n",
    "\n",
    "    plt.figure(figsize=(8, 6))\n",
    "    h = plt.hist2d(w1_values, w2_values, bins=(bins, bins), cmap='viridis', weights=normalized_loss)\n",
    "    plt.scatter(*star1_coords, c='red', marker='*', s=200, label='Star 1')\n",
    "    plt.scatter(*star2_coords, c='blue', marker='*', s=200, label='Star 2')\n",
    "    plt.colorbar(label='Loss (BCE)')\n",
    "    plt.xlabel('m1')\n",
    "    plt.ylabel('m2')\n",
    "    plt.title('6 Features (m1 = {} | m2 = {}) sigfrac: {:.4f}'.format(m1, m2, sigfrac))\n",
    "    plt.legend()\n",
    "    plt.show()\n",
    "    \n",
    "    return h\n",
    "loss_landscape_nofit(0.001, 3, 3, z_allm1m2_6HD);"
   ]
  },
  {
   "cell_type": "code",
   "execution_count": 125,
   "id": "317f864a-91cc-4541-9383-ad020e96f88a",
   "metadata": {
    "tags": []
   },
   "outputs": [
    {
     "data": {
      "image/png": "[encoded data removed]",
      "text/plain": [
       "<Figure size 640x480 with 2 Axes>"
      ]
     },
     "metadata": {},
     "output_type": "display_data"
    }
   ],
   "source": [
    "def loss_landscape_2D(sigfrac, m1, m2, w1_out, w2_out, z):\n",
    "    m1_values, m2_values = zip(*grid_axes.keys())\n",
    "\n",
    "    loss_values = list(z[sigfrac, m1, m2])\n",
    "    min_loss = min(loss_values)\n",
    "    max_loss = max(loss_values)\n",
    "\n",
    "    star1_coords = (m1, m2)  \n",
    "    star2_coords = (m2, m1)\n",
    "    fitoutput_coords = (w1_out, w2_out)\n",
    "\n",
    "    normalized_loss = [(x - min_loss) / (max_loss - min_loss) for x in loss_values]\n",
    "    \n",
    "    h = plt.hist2d(m1_values, m2_values, bins=(12, 12), cmap='viridis', weights=normalized_loss)\n",
    "    plt.scatter(*star1_coords, c='red', marker='*', s=200, label='Star 1')\n",
    "    plt.scatter(*star2_coords, c='blue', marker='*', s=200, label='Star 2')\n",
    "    plt.scatter(*fitoutput_coords, c='black', marker='.', s=200, label='fit_output')\n",
    "    plt.colorbar(label='Loss (BCE)')\n",
    "\n",
    "    plt.xlabel('m1')\n",
    "    plt.ylabel('m2')\n",
    "    plt.title('(m1 = {} | m2 = {}) sigfrac: {:.4f}'.format(m1, m2, sigfrac))\n",
    "    return h\n",
    "\n",
    "loss_landscape_2D(sig_space[5], 3, 3, 6, 6, z);"
   ]
  },
  {
   "cell_type": "code",
   "execution_count": 6,
   "id": "59fdbb49-5394-42a1-8ae8-891d18a2a33f",
   "metadata": {
    "tags": []
   },
   "outputs": [
    {
     "data": {
      "image/png": "[encoded data removed]",
      "text/plain": [
       "<Figure size 1600x600 with 3 Axes>"
      ]
     },
     "metadata": {},
     "output_type": "display_data"
    }
   ],
   "source": [
    "from matplotlib.colors import LinearSegmentedColormap\n",
    "from matplotlib.gridspec import GridSpec\n",
    "\n",
    "sigspace = np.logspace(-3.5, -1.3, 10)\n",
    "sigfrac = sigspace[4]\n",
    "decay = \"qqq\"\n",
    "m1, m2 = 1, 5\n",
    "m1_2, m2_2 = 3, 3\n",
    "z1 = np.load(\"data/landscapes/z_6_4_15_0.5_qqq_extra_23prong_fixedNEW_False.npy\", allow_pickle = True).item()\n",
    "z2 = np.load(\"data/landscapes/z_6_4_33_0.5_qqq_extra_23prong_fixedNEW_False.npy\", allow_pickle = True).item()\n",
    "sigspace = np.logspace(-3.5, -1.3, 10)\n",
    "save = False\n",
    "\n",
    "start = 0.5\n",
    "end = 6\n",
    "step = 0.5\n",
    "\n",
    "weight_list = np.arange(start, end + step, step)\n",
    "\n",
    "x_values = weight_list\n",
    "y_values = weight_list\n",
    "\n",
    "x, y = np.meshgrid(x_values, y_values)\n",
    "\n",
    "loss_values_flat = z1[sigfrac, m1, m2, decay]\n",
    "loss_values = np.transpose(np.array(loss_values_flat).reshape(x.shape))\n",
    "\n",
    "interp_spline = RectBivariateSpline(x_values, y_values, loss_values, s = 0)\n",
    "\n",
    "xi, yi = np.meshgrid(np.linspace(min(x_values), max(x_values), 1000), np.linspace(min(y_values), max(y_values), 1000))\n",
    "zi = interp_spline(xi[0, :], yi[:, 0])\n",
    "\n",
    "loss_values_flat2 = z2[sigfrac, m1_2, m2_2, decay]\n",
    "loss_values2 = np.transpose(np.array(loss_values_flat2).reshape(x.shape))\n",
    "\n",
    "interp_spline2 = RectBivariateSpline(x_values, y_values, loss_values2, s = 0)\n",
    "\n",
    "xi2, yi2 = np.meshgrid(np.linspace(min(x_values), max(x_values), 1000), np.linspace(min(y_values), max(y_values), 1000))\n",
    "zi2 = interp_spline2(xi2[0, :], yi2[:, 0])\n",
    "\n",
    "#2d projection\n",
    "fig = plt.figure(figsize=(16, 6))\n",
    "gs = GridSpec(1, 2, figure=fig)\n",
    "colors = [(1, 0, 0), (1, 1, 1)]\n",
    "\n",
    "cmap = LinearSegmentedColormap.from_list('blue_white', colors)  \n",
    "#cmap = \"viridis\"\n",
    "\n",
    "fontsize = 13\n",
    "levels = 15\n",
    "zoffset = (zi - np.log(2)) * 1000000\n",
    "zoffset2 = (zi2 - np.log(2)) * 1000000\n",
    "\n",
    "ax0 = fig.add_subplot(gs[0, 0])\n",
    "h1 = ax0.contourf(xi, yi, zoffset, cmap=cmap, levels=levels)\n",
    "ax0.set_aspect(\"equal\")\n",
    "ax0.set_title(f\"$m_X = {m1*100}$ GeV $\\quad m_Y = {m2*100}$ GeV\" + f\"$\\quad \\\\mu$ = {sigfrac * 100:.2f} %\", fontsize=fontsize)\n",
    "ax0.set_xlabel(r\"$m_{X}$\", fontsize=fontsize)\n",
    "ax0.set_ylabel(r\"$m_{Y}$\", fontsize=fontsize)\n",
    "ax0.tick_params(axis='x', labelsize=fontsize)\n",
    "ax0.tick_params(axis='y', labelsize=fontsize)\n",
    "\n",
    "for spine in ax0.spines.values():\n",
    "    spine.set_linewidth(0.5)\n",
    "\n",
    "ax1 = fig.add_subplot(gs[0, 1])\n",
    "h2 = ax1.contourf(xi2, yi2, zoffset2, cmap=cmap, levels=levels)\n",
    "ax1.set_aspect(\"equal\")\n",
    "ax1.set_title(f\"$m_X = {m1_2*100}$ GeV $\\quad m_Y = {m2_2*100}$ GeV\" + f\"$\\quad \\\\mu$ = {sigfrac * 100:.2f} %\", fontsize=fontsize)\n",
    "ax1.set_xlabel(r\"$m_{X}$\", fontsize=fontsize)\n",
    "ax1.set_ylabel(r\"$m_{Y}$\", fontsize=fontsize)\n",
    "ax1.tick_params(axis='x', labelsize=fontsize)\n",
    "ax1.tick_params(axis='y', labelsize=fontsize)\n",
    "\n",
    "for spine in ax1.spines.values():\n",
    "    spine.set_linewidth(0.5)\n",
    "\n",
    "cbar = fig.colorbar(h1, ax=[ax0, ax1], location='right', shrink=1)\n",
    "cbar.set_label('Loss', fontsize=fontsize)\n",
    "cbar.ax.tick_params(labelsize=fontsize)\n",
    "\n",
    "for spine in cbar.ax.spines.values():\n",
    "    spine.set_linewidth(0.5)\n",
    "\n",
    "if save == True:\n",
    "    plt.savefig(f'plots/losslandscapes_{sigfrac:.4f}transposed.pdf', dpi=450, bbox_inches='tight', format='pdf')"
   ]
  },
  {
   "cell_type": "code",
   "execution_count": 1,
   "id": "a32202e2-12a2-4272-9ec9-ab18dd95a4f9",
   "metadata": {
    "tags": []
   },
   "outputs": [],
   "source": [
    "def animate(sigfrac, m1, m2, w1, w2, epochs, z):\n",
    "    for key, value in train_wsmodel(sigfrac, m1, m2, w1, w2, epochs).items():\n",
    "        w1_fit_coord = value[0]\n",
    "        w2_fit_coord = value[1]\n",
    "\n",
    "        plt.figure()\n",
    "        loss_landscape(sigfrac, m1, m2, w1_fit_coord, w2_fit_coord, z)\n",
    "        plt.show()\n",
    "        clear_output(wait=True)\n",
    "        \n",
    "    loss_landscape(sigfrac, m1, m2, w1_fit_coord, w2_fit_coord, z)\n",
    "    print(\"Final weight coordinates: w1 = {} \".format(w1_fit_coord) + \" w2 = {} \".format(w2_fit_coord))\n",
    "        \n",
    "sigfrac = sig_list[19]\n",
    "w1, w2 = 2, 3\n",
    "m1, m2 = 3, 4.5\n",
    "epochs = 50\n",
    "animate(sigfrac, m1, m2, w1, w2, epochs, z345)"
   ]
  },
  {
   "cell_type": "code",
   "execution_count": 2,
   "id": "ea2ef3f9-ef65-426d-b562-80d539a6f443",
   "metadata": {
    "tags": []
   },
   "outputs": [],
   "source": [
    "def animate_random(sigfrac, m1,m2, w1, w2, epochs, z):\n",
    "    print(f\"Initial Weights: {w1} {w2}\")\n",
    "    animate(sigfrac, m1, m2, w1, w2, epochs, z)\n",
    "    \n",
    "sigfrac = 0.05\n",
    "random_number1 = random.uniform(0.1, 6.0)\n",
    "random_number2 = random.uniform(0.1, 6.0)\n",
    "m1, m2 = 1, 5.5\n",
    "epochs = 50\n",
    "\n",
    "animate_random(sigfrac, m1,m2, random_number1, random_number2, 50, z)"
   ]
  },
  {
   "cell_type": "code",
   "execution_count": 169,
   "id": "4e84a66e-a8c4-4742-923b-172a2139231e",
   "metadata": {
    "tags": []
   },
   "outputs": [],
   "source": [
    "#save images to make them gifs\n",
    "def create_gif_fitout(sigfrac, m1, m2, w1, w2, z, epochs):\n",
    "    output_directory = '2dhist_images'\n",
    "    os.makedirs(output_directory, exist_ok=True)\n",
    "\n",
    "    for key, value in train_wsmodel(sigfrac, m1, m2, w1, w2, epochs).items():\n",
    "        w1_fit_coord = value[0]\n",
    "        w2_fit_coord = value[1]\n",
    "\n",
    "        loss_landscape_2D(sigfrac, m1, m2, w1_fit_coord, w2_fit_coord, z)\n",
    "\n",
    "        image_path = os.path.join(output_directory, f'hist_{key}.png')\n",
    "        plt.savefig(image_path)\n",
    "        plt.close()\n",
    "\n",
    "        clear_output(wait=True)\n",
    "        \n",
    "    #make the gif\n",
    "    frames = []\n",
    "\n",
    "    image_dir = '2dhist_images'\n",
    "    image_files = os.listdir(image_dir)\n",
    "\n",
    "    image_files = sorted([filename for filename in os.listdir(image_dir) if filename.endswith('.png')], key=lambda x: int(x.split('_')[1].split('.')[0]))\n",
    "    for filename in image_files:\n",
    "        image = Image.open(os.path.join(image_dir, filename))\n",
    "        frames.append(image)\n",
    "        os.remove(image_dir+\"/\"+filename)\n",
    "\n",
    "    output_gif_filename = f'{sigfrac, m1, m2, w1, w2}.gif'\n",
    "    frames[0].save(output_gif_filename, save_all=True, append_images=frames[1:], duration=200, loop=0)"
   ]
  },
  {
   "cell_type": "code",
   "execution_count": 193,
   "id": "04c933b5-499d-4043-9462-ce219f95a8ad",
   "metadata": {
    "tags": []
   },
   "outputs": [
    {
     "name": "stdout",
     "output_type": "stream",
     "text": [
      "3.736706332731714 3.002639396491747\n",
      "Signal Fraction:  0.011288378916846888\n",
      "30/30 [==============================] - 1s 15ms/step - loss: 0.6926 - val_loss: 0.6926\n",
      "30/30 [==============================] - 0s 7ms/step - loss: 0.6923 - val_loss: 0.6923\n",
      "30/30 [==============================] - 0s 7ms/step - loss: 0.6921 - val_loss: 0.6920\n",
      "30/30 [==============================] - 0s 7ms/step - loss: 0.6919 - val_loss: 0.6917\n",
      "30/30 [==============================] - 0s 7ms/step - loss: 0.6917 - val_loss: 0.6916\n",
      "30/30 [==============================] - 0s 7ms/step - loss: 0.6917 - val_loss: 0.6915\n",
      "30/30 [==============================] - 0s 7ms/step - loss: 0.6917 - val_loss: 0.6915\n",
      "30/30 [==============================] - 0s 7ms/step - loss: 0.6916 - val_loss: 0.6915\n",
      "30/30 [==============================] - 0s 7ms/step - loss: 0.6916 - val_loss: 0.6915\n",
      "30/30 [==============================] - 0s 7ms/step - loss: 0.6917 - val_loss: 0.6915\n",
      "30/30 [==============================] - 0s 7ms/step - loss: 0.6916 - val_loss: 0.6916\n",
      "30/30 [==============================] - 0s 7ms/step - loss: 0.6917 - val_loss: 0.6916\n",
      "30/30 [==============================] - 0s 7ms/step - loss: 0.6916 - val_loss: 0.6915\n",
      "30/30 [==============================] - 0s 7ms/step - loss: 0.6916 - val_loss: 0.6916\n",
      "30/30 [==============================] - 0s 7ms/step - loss: 0.6917 - val_loss: 0.6915\n",
      "30/30 [==============================] - 0s 7ms/step - loss: 0.6916 - val_loss: 0.6916\n",
      "30/30 [==============================] - 1s 22ms/step - loss: 0.6916 - val_loss: 0.6915\n",
      "30/30 [==============================] - 0s 8ms/step - loss: 0.6916 - val_loss: 0.6916\n",
      "30/30 [==============================] - 0s 7ms/step - loss: 0.6917 - val_loss: 0.6916\n",
      "30/30 [==============================] - 0s 7ms/step - loss: 0.6916 - val_loss: 0.6916\n",
      "30/30 [==============================] - 0s 7ms/step - loss: 0.6917 - val_loss: 0.6915\n",
      "30/30 [==============================] - 0s 7ms/step - loss: 0.6916 - val_loss: 0.6915\n",
      "30/30 [==============================] - 0s 7ms/step - loss: 0.6916 - val_loss: 0.6916\n",
      "30/30 [==============================] - 0s 7ms/step - loss: 0.6916 - val_loss: 0.6916\n",
      "30/30 [==============================] - 0s 7ms/step - loss: 0.6916 - val_loss: 0.6915\n",
      "30/30 [==============================] - 0s 7ms/step - loss: 0.6916 - val_loss: 0.6915\n",
      "30/30 [==============================] - 0s 7ms/step - loss: 0.6916 - val_loss: 0.6916\n",
      "30/30 [==============================] - 0s 7ms/step - loss: 0.6916 - val_loss: 0.6915\n",
      "30/30 [==============================] - 0s 7ms/step - loss: 0.6916 - val_loss: 0.6916\n",
      "30/30 [==============================] - 0s 7ms/step - loss: 0.6917 - val_loss: 0.6916\n",
      "30/30 [==============================] - 0s 7ms/step - loss: 0.6916 - val_loss: 0.6916\n",
      "30/30 [==============================] - 0s 7ms/step - loss: 0.6916 - val_loss: 0.6915\n",
      "30/30 [==============================] - 0s 7ms/step - loss: 0.6916 - val_loss: 0.6915\n",
      "30/30 [==============================] - 0s 7ms/step - loss: 0.6916 - val_loss: 0.6915\n",
      "30/30 [==============================] - 0s 7ms/step - loss: 0.6916 - val_loss: 0.6916\n",
      "30/30 [==============================] - 0s 8ms/step - loss: 0.6916 - val_loss: 0.6915\n",
      "30/30 [==============================] - 0s 7ms/step - loss: 0.6916 - val_loss: 0.6916\n",
      "30/30 [==============================] - 0s 7ms/step - loss: 0.6916 - val_loss: 0.6915\n",
      "30/30 [==============================] - 0s 7ms/step - loss: 0.6916 - val_loss: 0.6916\n",
      "30/30 [==============================] - 0s 7ms/step - loss: 0.6916 - val_loss: 0.6915\n",
      "30/30 [==============================] - 0s 7ms/step - loss: 0.6916 - val_loss: 0.6915\n",
      "30/30 [==============================] - 0s 7ms/step - loss: 0.6917 - val_loss: 0.6915\n",
      "30/30 [==============================] - 0s 7ms/step - loss: 0.6916 - val_loss: 0.6916\n",
      "30/30 [==============================] - 0s 7ms/step - loss: 0.6917 - val_loss: 0.6916\n",
      "30/30 [==============================] - 0s 8ms/step - loss: 0.6917 - val_loss: 0.6915\n",
      "30/30 [==============================] - 0s 7ms/step - loss: 0.6916 - val_loss: 0.6915\n",
      "30/30 [==============================] - 0s 7ms/step - loss: 0.6916 - val_loss: 0.6916\n",
      "30/30 [==============================] - 0s 7ms/step - loss: 0.6916 - val_loss: 0.6915\n",
      "30/30 [==============================] - 1s 26ms/step - loss: 0.6917 - val_loss: 0.6916\n",
      "30/30 [==============================] - 0s 7ms/step - loss: 0.6916 - val_loss: 0.6915\n",
      "3 4.5 4.562472 2.8867893\n"
     ]
    }
   ],
   "source": [
    "w1 = random.uniform(0.5, 6.0)\n",
    "w2 = random.uniform(0.5, 6.0)\n",
    "\n",
    "print(w1, w2)\n",
    "sigfrac = sig_space[10]\n",
    "m1 = 3\n",
    "m2 = 4.5\n",
    "epochs = 50\n",
    "create_gif_fitout(sigfrac, m1, m2, w1, w2, z_allm1m2, epochs)"
   ]
  },
  {
   "cell_type": "code",
   "execution_count": 172,
   "id": "967e5087-8647-45ba-9fd7-4396ddd6364d",
   "metadata": {
    "tags": []
   },
   "outputs": [],
   "source": [
    "sig_space = np.logspace(-3, -1, 20)\n",
    "for sigfrac in sig_space:\n",
    "    m1, m2 = 1, 5.5\n",
    "    w1 = round(random.uniform(0.5, 6.0),3)\n",
    "    w2 = round(random.uniform(0.5, 6.0),3)\n",
    "    epochs = 50\n",
    "    frames = create_gif_fitout(sigfrac, m1, m2, w1, w2, z_allm1m2, epochs)"
   ]
  },
  {
   "cell_type": "code",
   "execution_count": 1,
   "id": "72febea8-49ad-47ff-9703-245bd1efd205",
   "metadata": {
    "tags": []
   },
   "outputs": [],
   "source": [
    "def create_gif_nofit(m1, m2, z):\n",
    "    \n",
    "    output_directory = '2dhist_images'\n",
    "    os.makedirs(output_directory, exist_ok=True)\n",
    "    \n",
    "    sig_space = np.logspace(-3, -1 , 20)\n",
    "    \n",
    "    frames = []\n",
    "    for sb in sig_space:\n",
    "    \n",
    "        loss_landscape_nofit(sb, m1, m2, z)\n",
    "\n",
    "        image_path = os.path.join(output_directory, f'hist_{sb}.png')\n",
    "        plt.savefig(image_path)\n",
    "        plt.close()\n",
    "        clear_output(wait=True)\n",
    "\n",
    "        frames.append(Image.open(image_path))\n",
    "\n",
    "    output_gif_filename = f'sigspace{m1}{m2}fixed.gif'\n",
    "    frames[0].save(output_gif_filename, save_all=True, append_images=frames[1:], duration=400, loop=0)"
   ]
  }
 ],
 "metadata": {
  "kernelspec": {
   "display_name": "tensorflow-2.9.0",
   "language": "python",
   "name": "tensorflow-2.9.0"
  },
  "language_info": {
   "codemirror_mode": {
    "name": "ipython",
    "version": 3
   },
   "file_extension": ".py",
   "mimetype": "text/x-python",
   "name": "python",
   "nbconvert_exporter": "python",
   "pygments_lexer": "ipython3",
   "version": "3.9.19"
  }
 },
 "nbformat": 4,
 "nbformat_minor": 5
}
